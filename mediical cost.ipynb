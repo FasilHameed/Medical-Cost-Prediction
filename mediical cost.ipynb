{
 "cells": [
  {
   "cell_type": "markdown",
   "metadata": {},
   "source": [
    "### Problem Statement\n",
    "\n",
    "In this project, we aim to conduct a comprehensive analysis of a dataset focusing on health insurance beneficiaries in the United States. The dataset encompasses various attributes, including:\n",
    "\n",
    "- **Age**: Reflects the age of the primary beneficiary, representing a wide spectrum of demographics.\n",
    "- **Sex**: Indicates the gender of the insurance contractor, offering insights into gender-based healthcare disparities.\n",
    "- **BMI**: Body mass index, providing a holistic view of health and wellness.\n",
    "- **Children**: Denotes the number of dependents covered by health insurance, shedding light on family dynamics.\n",
    "- **Smoker**: Indicates smoking habits, a significant factor influencing healthcare costs and outcomes.\n",
    "- **Region**: Specifies the geographical location of the beneficiary, capturing regional variations in healthcare access and costs.\n",
    "- **Charges**: Represents individual medical costs billed by health insurance, reflecting the financial aspect of healthcare.\n",
    "\n",
    "Our overarching objective is to extract actionable insights from this dataset to inform strategic decision-making in the healthcare and insurance sectors. Key objectives include:\n",
    "\n",
    "1. Exploratory Data Analysis (EDA): Conduct a thorough exploration of the dataset to uncover patterns, trends, and relationships among various attributes.\n",
    "2. Feature Engineering: Derive new features or transformations to enhance predictive modeling and analysis.\n",
    "3. Predictive Modeling: Develop robust machine learning models to predict health insurance charges based on demographic, lifestyle, and geographic factors.\n",
    "4. Interpretation and Insights: Interpret model results and extract actionable insights to guide insurance pricing strategies, healthcare resource allocation, and policy formulation.\n",
    "5. Ethical Considerations: Address ethical concerns related to fairness, transparency, and privacy in healthcare data analysis.\n",
    "\n",
    "By addressing these objectives, we aim to contribute to the optimization of healthcare delivery and insurance services, ultimately fostering better health outcomes and financial security for individuals and families across diverse demographic and geographic backgrounds.\n"
   ]
  },
  {
   "cell_type": "markdown",
   "metadata": {},
   "source": [
    "### **`Importing Required Liabraries`**"
   ]
  },
  {
   "cell_type": "code",
   "execution_count": 63,
   "metadata": {},
   "outputs": [],
   "source": [
    "# Importing necessary libraries for numerical operations\n",
    "import numpy as np\n",
    "# Importing pandas for data manipulation and analysis\n",
    "import pandas as pd\n",
    "# Importing train_test_split function from sklearn.model_selection for splitting data into train and test sets\n",
    "from sklearn.model_selection import train_test_split, cross_val_score\n",
    "# Importing LabelEncoder from sklearn.preprocessing for label encoding categorical variables\n",
    "from sklearn.preprocessing import LabelEncoder\n",
    "# Importing RandomForestRegressor from sklearn.ensemble for building random forest regression model\n",
    "from sklearn.ensemble import RandomForestRegressor\n",
    "# Importing train_test_split function from sklearn.model_selection for splitting data into train and test sets\n",
    "from sklearn.model_selection import train_test_split as holdout\n",
    "# Importing LinearRegression from sklearn.linear_model for building linear regression model\n",
    "from sklearn.linear_model import LinearRegression\n",
    "# Importing metrics from sklearn for evaluating model performance\n",
    "from sklearn import metrics\n",
    "# Importing XGBRegressor from xgboost for building XGBoost regression model\n",
    "from xgboost import XGBRegressor\n",
    "# Importing seaborn for data visualization\n",
    "import seaborn as sns\n",
    "# Importing matplotlib.pyplot for creating plots\n",
    "import matplotlib.pyplot as plt\n",
    "%matplotlib inline\n",
    "# Suppressing warnings\n",
    "import warnings\n",
    "warnings.filterwarnings(\"ignore\")\n",
    "# Importing Ridge regression model from sklearn.linear_model\n",
    "from sklearn.linear_model import Ridge\n",
    "# Importing PolynomialFeatures from sklearn.preprocessing for generating polynomial features\n",
    "from sklearn.preprocessing import PolynomialFeatures\n",
    "# Importing Lasso regression model from sklearn.linear_model\n",
    "from sklearn.linear_model import Lasso\n",
    "# Importing RandomForestRegressor from sklearn.ensemble for building random forest regression model\n",
    "from sklearn.ensemble import RandomForestRegressor as rfr\n",
    "# for making tabular vies of functions\n",
    "from tabulate import tabulate\n",
    "\n",
    "# visual report\n",
    "import dtale\n",
    "\n",
    "# visual report sweetviz\n",
    "import sweetviz as sv\n"
   ]
  },
  {
   "cell_type": "markdown",
   "metadata": {},
   "source": [
    "## `Exploration of the DATA`"
   ]
  },
  {
   "cell_type": "code",
   "execution_count": 64,
   "metadata": {},
   "outputs": [],
   "source": [
    "# Load the Data\n",
    "df=pd.read_csv('insurance.csv')"
   ]
  },
  {
   "cell_type": "code",
   "execution_count": 65,
   "metadata": {},
   "outputs": [],
   "source": [
    "def explore(df):\n",
    "    print(f\"The top 5 rows of {df} are below\".center(82, \"~\"))\n",
    "    print(df.head(5))\n",
    "    print(f\"The last 5 rows of {df} are below\".center(82, \"~\"))\n",
    "    print(df.tail(5))\n",
    "    print(f\"Column-wise sum of missing values in the {df} are below\".center(82, \"~\"))\n",
    "    print(df.isnull().sum())\n"
   ]
  },
  {
   "cell_type": "code",
   "execution_count": 66,
   "metadata": {},
   "outputs": [
    {
     "name": "stdout",
     "output_type": "stream",
     "text": [
      "~~~~~~~~~~~~~~~~~~~~~~~~~~~~~~~~~~~~~~~~~~~~~~~~~~~~~~~~~~~~~~~~~~~~~~~~~~~~~~~~~~~~~~~~~~~~~~~~~~~~\n",
      "                                      Top 5 rows of DataFrame                                       \n",
      "~~~~~~~~~~~~~~~~~~~~~~~~~~~~~~~~~~~~~~~~~~~~~~~~~~~~~~~~~~~~~~~~~~~~~~~~~~~~~~~~~~~~~~~~~~~~~~~~~~~~\n",
      "+----+-------+--------+--------+------------+----------+-----------+-----------+\n",
      "|    |   age | sex    |    bmi |   children | smoker   | region    |   charges |\n",
      "+====+=======+========+========+============+==========+===========+===========+\n",
      "|  0 |    19 | female | 27.9   |          0 | yes      | southwest |  16884.9  |\n",
      "+----+-------+--------+--------+------------+----------+-----------+-----------+\n",
      "|  1 |    18 | male   | 33.77  |          1 | no       | southeast |   1725.55 |\n",
      "+----+-------+--------+--------+------------+----------+-----------+-----------+\n",
      "|  2 |    28 | male   | 33     |          3 | no       | southeast |   4449.46 |\n",
      "+----+-------+--------+--------+------------+----------+-----------+-----------+\n",
      "|  3 |    33 | male   | 22.705 |          0 | no       | northwest |  21984.5  |\n",
      "+----+-------+--------+--------+------------+----------+-----------+-----------+\n",
      "|  4 |    32 | male   | 28.88  |          0 | no       | northwest |   3866.86 |\n",
      "+----+-------+--------+--------+------------+----------+-----------+-----------+\n",
      "~~~~~~~~~~~~~~~~~~~~~~~~~~~~~~~~~~~~~~~~~~~~~~~~~~~~~~~~~~~~~~~~~~~~~~~~~~~~~~~~~~~~~~~~~~~~~~~~~~~~\n",
      "                                      Last 5 rows of DataFrame                                      \n",
      "~~~~~~~~~~~~~~~~~~~~~~~~~~~~~~~~~~~~~~~~~~~~~~~~~~~~~~~~~~~~~~~~~~~~~~~~~~~~~~~~~~~~~~~~~~~~~~~~~~~~\n",
      "+------+-------+--------+-------+------------+----------+-----------+-----------+\n",
      "|      |   age | sex    |   bmi |   children | smoker   | region    |   charges |\n",
      "+======+=======+========+=======+============+==========+===========+===========+\n",
      "| 1333 |    50 | male   | 30.97 |          3 | no       | northwest |  10600.5  |\n",
      "+------+-------+--------+-------+------------+----------+-----------+-----------+\n",
      "| 1334 |    18 | female | 31.92 |          0 | no       | northeast |   2205.98 |\n",
      "+------+-------+--------+-------+------------+----------+-----------+-----------+\n",
      "| 1335 |    18 | female | 36.85 |          0 | no       | southeast |   1629.83 |\n",
      "+------+-------+--------+-------+------------+----------+-----------+-----------+\n",
      "| 1336 |    21 | female | 25.8  |          0 | no       | southwest |   2007.94 |\n",
      "+------+-------+--------+-------+------------+----------+-----------+-----------+\n",
      "| 1337 |    61 | female | 29.07 |          0 | yes      | northwest |  29141.4  |\n",
      "+------+-------+--------+-------+------------+----------+-----------+-----------+\n",
      "~~~~~~~~~~~~~~~~~~~~~~~~~~~~~~~~~~~~~~~~~~~~~~~~~~~~~~~~~~~~~~~~~~~~~~~~~~~~~~~~~~~~~~~~~~~~~~~~~~~~\n",
      "                                  Summary statistics for DataFrame                                  \n",
      "~~~~~~~~~~~~~~~~~~~~~~~~~~~~~~~~~~~~~~~~~~~~~~~~~~~~~~~~~~~~~~~~~~~~~~~~~~~~~~~~~~~~~~~~~~~~~~~~~~~~\n",
      "+-------+----------+------------+------------+-----------+\n",
      "|       |      age |        bmi |   children |   charges |\n",
      "+=======+==========+============+============+===========+\n",
      "| count | 1338     | 1338       | 1338       |   1338    |\n",
      "+-------+----------+------------+------------+-----------+\n",
      "| mean  |   39.207 |   30.6634  |    1.09492 |  13270.4  |\n",
      "+-------+----------+------------+------------+-----------+\n",
      "| std   |   14.05  |    6.09819 |    1.20549 |  12110    |\n",
      "+-------+----------+------------+------------+-----------+\n",
      "| min   |   18     |   15.96    |    0       |   1121.87 |\n",
      "+-------+----------+------------+------------+-----------+\n",
      "| 25%   |   27     |   26.2963  |    0       |   4740.29 |\n",
      "+-------+----------+------------+------------+-----------+\n",
      "| 50%   |   39     |   30.4     |    1       |   9382.03 |\n",
      "+-------+----------+------------+------------+-----------+\n",
      "| 75%   |   51     |   34.6938  |    2       |  16639.9  |\n",
      "+-------+----------+------------+------------+-----------+\n",
      "| max   |   64     |   53.13    |    5       |  63770.4  |\n",
      "+-------+----------+------------+------------+-----------+\n",
      "~~~~~~~~~~~~~~~~~~~~~~~~~~~~~~~~~~~~~~~~~~~~~~~~~~~~~~~~~~~~~~~~~~~~~~~~~~~~~~~~~~~~~~~~~~~~~~~~~~~~\n",
      "                           Column-wise sum of missing values in DataFrame                           \n",
      "~~~~~~~~~~~~~~~~~~~~~~~~~~~~~~~~~~~~~~~~~~~~~~~~~~~~~~~~~~~~~~~~~~~~~~~~~~~~~~~~~~~~~~~~~~~~~~~~~~~~\n",
      "+----------------+-------+-------+-------+------------+----------+----------+-----------+\n",
      "|                |   age |   sex |   bmi |   children |   smoker |   region |   charges |\n",
      "+================+=======+=======+=======+============+==========+==========+===========+\n",
      "| Missing Values |     0 |     0 |     0 |          0 |        0 |        0 |         0 |\n",
      "+----------------+-------+-------+-------+------------+----------+----------+-----------+\n",
      "~~~~~~~~~~~~~~~~~~~~~~~~~~~~~~~~~~~~~~~~~~~~~~~~~~~~~~~~~~~~~~~~~~~~~~~~~~~~~~~~~~~~~~~~~~~~~~~~~~~~\n",
      "                                      Data shape of DataFrame                                       \n",
      "~~~~~~~~~~~~~~~~~~~~~~~~~~~~~~~~~~~~~~~~~~~~~~~~~~~~~~~~~~~~~~~~~~~~~~~~~~~~~~~~~~~~~~~~~~~~~~~~~~~~\n",
      "+---------+---------+\n",
      "|         |   Value |\n",
      "+=========+=========+\n",
      "| Rows    |    1338 |\n",
      "+---------+---------+\n",
      "| Columns |       7 |\n",
      "+---------+---------+\n",
      "~~~~~~~~~~~~~~~~~~~~~~~~~~~~~~~~~~~~~~~~~~~~~~~~~~~~~~~~~~~~~~~~~~~~~~~~~~~~~~~~~~~~~~~~~~~~~~~~~~~~\n",
      "                                      Data types of DataFrame                                       \n",
      "~~~~~~~~~~~~~~~~~~~~~~~~~~~~~~~~~~~~~~~~~~~~~~~~~~~~~~~~~~~~~~~~~~~~~~~~~~~~~~~~~~~~~~~~~~~~~~~~~~~~\n",
      "+-----------+-------+--------+---------+------------+----------+----------+-----------+\n",
      "|           | age   | sex    | bmi     | children   | smoker   | region   | charges   |\n",
      "+===========+=======+========+=========+============+==========+==========+===========+\n",
      "| Data Type | int64 | object | float64 | int64      | object   | object   | float64   |\n",
      "+-----------+-------+--------+---------+------------+----------+----------+-----------+\n",
      "~~~~~~~~~~~~~~~~~~~~~~~~~~~~~~~~~~~~~~~~~~~~~~~~~~~~~~~~~~~~~~~~~~~~~~~~~~~~~~~~~~~~~~~~~~~~~~~~~~~~\n",
      "                               Number of duplicate rows in DataFrame                                \n",
      "~~~~~~~~~~~~~~~~~~~~~~~~~~~~~~~~~~~~~~~~~~~~~~~~~~~~~~~~~~~~~~~~~~~~~~~~~~~~~~~~~~~~~~~~~~~~~~~~~~~~\n",
      "+----+---------+\n",
      "|    |   Value |\n",
      "+====+=========+\n",
      "|  0 |       1 |\n",
      "+----+---------+\n"
     ]
    }
   ],
   "source": [
    "from tabulate import tabulate\n",
    "\n",
    "def explore(df):\n",
    "    print(\"~\" * 100)\n",
    "    print(f\"{'Top 5 rows of DataFrame':^100}\")\n",
    "    print(\"~\" * 100)\n",
    "    print(tabulate(df.head(5), headers='keys', tablefmt='grid'))\n",
    "    \n",
    "    print(\"~\" * 100)\n",
    "    print(f\"{'Last 5 rows of DataFrame':^100}\")\n",
    "    print(\"~\" * 100)\n",
    "    print(tabulate(df.tail(5), headers='keys', tablefmt='grid'))\n",
    "    \n",
    "    print(\"~\" * 100)\n",
    "    print(f\"{'Summary statistics for DataFrame':^100}\")\n",
    "    print(\"~\" * 100)\n",
    "    print(tabulate(df.describe(), headers='keys', tablefmt='grid'))\n",
    "    \n",
    "    print(\"~\" * 100)\n",
    "    print(f\"{'Column-wise sum of missing values in DataFrame':^100}\")\n",
    "    print(\"~\" * 100)\n",
    "    print(tabulate(pd.DataFrame(df.isnull().sum(), columns=['Missing Values']).T, headers='keys', tablefmt='grid'))\n",
    "    \n",
    "    print(\"~\" * 100)\n",
    "    print(f\"{'Data shape of DataFrame':^100}\")\n",
    "    print(\"~\" * 100)\n",
    "    print(tabulate(pd.DataFrame(df.shape, index=['Rows', 'Columns'], columns=['Value']), headers='keys', tablefmt='grid'))\n",
    "    \n",
    "    print(\"~\" * 100)\n",
    "    print(f\"{'Data types of DataFrame':^100}\")\n",
    "    print(\"~\" * 100)\n",
    "    print(tabulate(pd.DataFrame(df.dtypes, columns=['Data Type']).T, headers='keys', tablefmt='grid'))\n",
    "    \n",
    "    print(\"~\" * 100)\n",
    "    print(f\"{'Number of duplicate rows in DataFrame':^100}\")\n",
    "    print(\"~\" * 100)\n",
    "    print(tabulate(pd.DataFrame([df.duplicated().sum()], columns=['Value']), headers='keys', tablefmt='grid'))\n",
    " \n",
    "# Example usage\n",
    "explore(df)\n"
   ]
  },
  {
   "cell_type": "markdown",
   "metadata": {},
   "source": [
    "## `Data Exploration on Granular Level`"
   ]
  },
  {
   "cell_type": "code",
   "execution_count": 67,
   "metadata": {},
   "outputs": [
    {
     "data": {
      "text/html": [
       "<style type=\"text/css\">\n",
       "#T_5382f_row0_col0 {\n",
       "  background-color: #feeddc;\n",
       "  color: #000000;\n",
       "}\n",
       "#T_5382f_row0_col2 {\n",
       "  background-color: #fd9547;\n",
       "  color: #000000;\n",
       "}\n",
       "#T_5382f_row0_col3, #T_5382f_row1_col0, #T_5382f_row1_col6, #T_5382f_row3_col2, #T_5382f_row3_col3, #T_5382f_row4_col3 {\n",
       "  background-color: #fff5eb;\n",
       "  color: #000000;\n",
       "}\n",
       "#T_5382f_row0_col6 {\n",
       "  background-color: #d94801;\n",
       "  color: #f1f1f1;\n",
       "}\n",
       "#T_5382f_row1_col2, #T_5382f_row2_col3, #T_5382f_row3_col0, #T_5382f_row3_col6 {\n",
       "  background-color: #7f2704;\n",
       "  color: #f1f1f1;\n",
       "}\n",
       "#T_5382f_row1_col3 {\n",
       "  background-color: #fdb97d;\n",
       "  color: #000000;\n",
       "}\n",
       "#T_5382f_row2_col0 {\n",
       "  background-color: #e95e0d;\n",
       "  color: #f1f1f1;\n",
       "}\n",
       "#T_5382f_row2_col2, #T_5382f_row4_col0 {\n",
       "  background-color: #942f03;\n",
       "  color: #f1f1f1;\n",
       "}\n",
       "#T_5382f_row2_col6 {\n",
       "  background-color: #fee5cb;\n",
       "  color: #000000;\n",
       "}\n",
       "#T_5382f_row4_col2 {\n",
       "  background-color: #f87d29;\n",
       "  color: #f1f1f1;\n",
       "}\n",
       "#T_5382f_row4_col6 {\n",
       "  background-color: #fee8d2;\n",
       "  color: #000000;\n",
       "}\n",
       "</style>\n",
       "<table id=\"T_5382f\">\n",
       "  <thead>\n",
       "    <tr>\n",
       "      <th class=\"blank level0\" >&nbsp;</th>\n",
       "      <th id=\"T_5382f_level0_col0\" class=\"col_heading level0 col0\" >age</th>\n",
       "      <th id=\"T_5382f_level0_col1\" class=\"col_heading level0 col1\" >sex</th>\n",
       "      <th id=\"T_5382f_level0_col2\" class=\"col_heading level0 col2\" >bmi</th>\n",
       "      <th id=\"T_5382f_level0_col3\" class=\"col_heading level0 col3\" >children</th>\n",
       "      <th id=\"T_5382f_level0_col4\" class=\"col_heading level0 col4\" >smoker</th>\n",
       "      <th id=\"T_5382f_level0_col5\" class=\"col_heading level0 col5\" >region</th>\n",
       "      <th id=\"T_5382f_level0_col6\" class=\"col_heading level0 col6\" >charges</th>\n",
       "    </tr>\n",
       "  </thead>\n",
       "  <tbody>\n",
       "    <tr>\n",
       "      <th id=\"T_5382f_level0_row0\" class=\"row_heading level0 row0\" >0</th>\n",
       "      <td id=\"T_5382f_row0_col0\" class=\"data row0 col0\" >19</td>\n",
       "      <td id=\"T_5382f_row0_col1\" class=\"data row0 col1\" >female</td>\n",
       "      <td id=\"T_5382f_row0_col2\" class=\"data row0 col2\" >27.900000</td>\n",
       "      <td id=\"T_5382f_row0_col3\" class=\"data row0 col3\" >0</td>\n",
       "      <td id=\"T_5382f_row0_col4\" class=\"data row0 col4\" >yes</td>\n",
       "      <td id=\"T_5382f_row0_col5\" class=\"data row0 col5\" >southwest</td>\n",
       "      <td id=\"T_5382f_row0_col6\" class=\"data row0 col6\" >16884.924000</td>\n",
       "    </tr>\n",
       "    <tr>\n",
       "      <th id=\"T_5382f_level0_row1\" class=\"row_heading level0 row1\" >1</th>\n",
       "      <td id=\"T_5382f_row1_col0\" class=\"data row1 col0\" >18</td>\n",
       "      <td id=\"T_5382f_row1_col1\" class=\"data row1 col1\" >male</td>\n",
       "      <td id=\"T_5382f_row1_col2\" class=\"data row1 col2\" >33.770000</td>\n",
       "      <td id=\"T_5382f_row1_col3\" class=\"data row1 col3\" >1</td>\n",
       "      <td id=\"T_5382f_row1_col4\" class=\"data row1 col4\" >no</td>\n",
       "      <td id=\"T_5382f_row1_col5\" class=\"data row1 col5\" >southeast</td>\n",
       "      <td id=\"T_5382f_row1_col6\" class=\"data row1 col6\" >1725.552300</td>\n",
       "    </tr>\n",
       "    <tr>\n",
       "      <th id=\"T_5382f_level0_row2\" class=\"row_heading level0 row2\" >2</th>\n",
       "      <td id=\"T_5382f_row2_col0\" class=\"data row2 col0\" >28</td>\n",
       "      <td id=\"T_5382f_row2_col1\" class=\"data row2 col1\" >male</td>\n",
       "      <td id=\"T_5382f_row2_col2\" class=\"data row2 col2\" >33.000000</td>\n",
       "      <td id=\"T_5382f_row2_col3\" class=\"data row2 col3\" >3</td>\n",
       "      <td id=\"T_5382f_row2_col4\" class=\"data row2 col4\" >no</td>\n",
       "      <td id=\"T_5382f_row2_col5\" class=\"data row2 col5\" >southeast</td>\n",
       "      <td id=\"T_5382f_row2_col6\" class=\"data row2 col6\" >4449.462000</td>\n",
       "    </tr>\n",
       "    <tr>\n",
       "      <th id=\"T_5382f_level0_row3\" class=\"row_heading level0 row3\" >3</th>\n",
       "      <td id=\"T_5382f_row3_col0\" class=\"data row3 col0\" >33</td>\n",
       "      <td id=\"T_5382f_row3_col1\" class=\"data row3 col1\" >male</td>\n",
       "      <td id=\"T_5382f_row3_col2\" class=\"data row3 col2\" >22.705000</td>\n",
       "      <td id=\"T_5382f_row3_col3\" class=\"data row3 col3\" >0</td>\n",
       "      <td id=\"T_5382f_row3_col4\" class=\"data row3 col4\" >no</td>\n",
       "      <td id=\"T_5382f_row3_col5\" class=\"data row3 col5\" >northwest</td>\n",
       "      <td id=\"T_5382f_row3_col6\" class=\"data row3 col6\" >21984.470610</td>\n",
       "    </tr>\n",
       "    <tr>\n",
       "      <th id=\"T_5382f_level0_row4\" class=\"row_heading level0 row4\" >4</th>\n",
       "      <td id=\"T_5382f_row4_col0\" class=\"data row4 col0\" >32</td>\n",
       "      <td id=\"T_5382f_row4_col1\" class=\"data row4 col1\" >male</td>\n",
       "      <td id=\"T_5382f_row4_col2\" class=\"data row4 col2\" >28.880000</td>\n",
       "      <td id=\"T_5382f_row4_col3\" class=\"data row4 col3\" >0</td>\n",
       "      <td id=\"T_5382f_row4_col4\" class=\"data row4 col4\" >no</td>\n",
       "      <td id=\"T_5382f_row4_col5\" class=\"data row4 col5\" >northwest</td>\n",
       "      <td id=\"T_5382f_row4_col6\" class=\"data row4 col6\" >3866.855200</td>\n",
       "    </tr>\n",
       "  </tbody>\n",
       "</table>\n"
      ],
      "text/plain": [
       "<pandas.io.formats.style.Styler at 0x1f585005410>"
      ]
     },
     "execution_count": 67,
     "metadata": {},
     "output_type": "execute_result"
    }
   ],
   "source": [
    "# check top 5 rows\n",
    "df.head().style.background_gradient(cmap='Oranges')"
   ]
  },
  {
   "cell_type": "code",
   "execution_count": 68,
   "metadata": {},
   "outputs": [
    {
     "data": {
      "text/plain": [
       "age         0\n",
       "sex         0\n",
       "bmi         0\n",
       "children    0\n",
       "smoker      0\n",
       "region      0\n",
       "charges     0\n",
       "dtype: int64"
      ]
     },
     "execution_count": 68,
     "metadata": {},
     "output_type": "execute_result"
    }
   ],
   "source": [
    "# check Missing Data\n",
    "df.isnull().sum()"
   ]
  },
  {
   "cell_type": "code",
   "execution_count": 69,
   "metadata": {},
   "outputs": [
    {
     "data": {
      "text/plain": [
       "(1338, 7)"
      ]
     },
     "execution_count": 69,
     "metadata": {},
     "output_type": "execute_result"
    }
   ],
   "source": [
    "# shape of The Data\n",
    "df.shape"
   ]
  },
  {
   "cell_type": "code",
   "execution_count": 70,
   "metadata": {},
   "outputs": [
    {
     "data": {
      "text/plain": [
       "1"
      ]
     },
     "execution_count": 70,
     "metadata": {},
     "output_type": "execute_result"
    }
   ],
   "source": [
    "# check Duplicates\n",
    "df.duplicated().sum()"
   ]
  },
  {
   "cell_type": "code",
   "execution_count": 71,
   "metadata": {},
   "outputs": [],
   "source": [
    "# droping the Duplicate value\n",
    "df.drop_duplicates(inplace=True)"
   ]
  },
  {
   "cell_type": "code",
   "execution_count": 72,
   "metadata": {},
   "outputs": [
    {
     "data": {
      "text/plain": [
       "age           int64\n",
       "sex          object\n",
       "bmi         float64\n",
       "children      int64\n",
       "smoker       object\n",
       "region       object\n",
       "charges     float64\n",
       "dtype: object"
      ]
     },
     "execution_count": 72,
     "metadata": {},
     "output_type": "execute_result"
    }
   ],
   "source": [
    "# checking data Types\n",
    "df.dtypes"
   ]
  },
  {
   "cell_type": "code",
   "execution_count": 73,
   "metadata": {},
   "outputs": [
    {
     "data": {
      "text/html": [
       "<style type=\"text/css\">\n",
       "#T_884ee_row0_col0, #T_884ee_row0_col1, #T_884ee_row0_col2, #T_884ee_row7_col3 {\n",
       "  background-color: #7f2704;\n",
       "  color: #f1f1f1;\n",
       "}\n",
       "#T_884ee_row0_col3, #T_884ee_row1_col2, #T_884ee_row2_col0, #T_884ee_row2_col1, #T_884ee_row2_col2, #T_884ee_row3_col0, #T_884ee_row3_col2, #T_884ee_row3_col3, #T_884ee_row4_col2, #T_884ee_row5_col2, #T_884ee_row6_col2, #T_884ee_row7_col2 {\n",
       "  background-color: #fff5eb;\n",
       "  color: #000000;\n",
       "}\n",
       "#T_884ee_row1_col0, #T_884ee_row1_col1, #T_884ee_row5_col0, #T_884ee_row5_col1 {\n",
       "  background-color: #fff3e7;\n",
       "  color: #000000;\n",
       "}\n",
       "#T_884ee_row1_col3 {\n",
       "  background-color: #fddab6;\n",
       "  color: #000000;\n",
       "}\n",
       "#T_884ee_row2_col3 {\n",
       "  background-color: #fedebd;\n",
       "  color: #000000;\n",
       "}\n",
       "#T_884ee_row3_col1 {\n",
       "  background-color: #fff5ea;\n",
       "  color: #000000;\n",
       "}\n",
       "#T_884ee_row4_col0 {\n",
       "  background-color: #fff4e9;\n",
       "  color: #000000;\n",
       "}\n",
       "#T_884ee_row4_col1 {\n",
       "  background-color: #fff4e8;\n",
       "  color: #000000;\n",
       "}\n",
       "#T_884ee_row4_col3 {\n",
       "  background-color: #ffeede;\n",
       "  color: #000000;\n",
       "}\n",
       "#T_884ee_row5_col3 {\n",
       "  background-color: #fee5cc;\n",
       "  color: #000000;\n",
       "}\n",
       "#T_884ee_row6_col0 {\n",
       "  background-color: #fff2e5;\n",
       "  color: #000000;\n",
       "}\n",
       "#T_884ee_row6_col1 {\n",
       "  background-color: #fff3e6;\n",
       "  color: #000000;\n",
       "}\n",
       "#T_884ee_row6_col3 {\n",
       "  background-color: #fdd1a3;\n",
       "  color: #000000;\n",
       "}\n",
       "#T_884ee_row7_col0, #T_884ee_row7_col1 {\n",
       "  background-color: #fff1e3;\n",
       "  color: #000000;\n",
       "}\n",
       "</style>\n",
       "<table id=\"T_884ee\">\n",
       "  <thead>\n",
       "    <tr>\n",
       "      <th class=\"blank level0\" >&nbsp;</th>\n",
       "      <th id=\"T_884ee_level0_col0\" class=\"col_heading level0 col0\" >age</th>\n",
       "      <th id=\"T_884ee_level0_col1\" class=\"col_heading level0 col1\" >bmi</th>\n",
       "      <th id=\"T_884ee_level0_col2\" class=\"col_heading level0 col2\" >children</th>\n",
       "      <th id=\"T_884ee_level0_col3\" class=\"col_heading level0 col3\" >charges</th>\n",
       "    </tr>\n",
       "  </thead>\n",
       "  <tbody>\n",
       "    <tr>\n",
       "      <th id=\"T_884ee_level0_row0\" class=\"row_heading level0 row0\" >count</th>\n",
       "      <td id=\"T_884ee_row0_col0\" class=\"data row0 col0\" >1337.000000</td>\n",
       "      <td id=\"T_884ee_row0_col1\" class=\"data row0 col1\" >1337.000000</td>\n",
       "      <td id=\"T_884ee_row0_col2\" class=\"data row0 col2\" >1337.000000</td>\n",
       "      <td id=\"T_884ee_row0_col3\" class=\"data row0 col3\" >1337.000000</td>\n",
       "    </tr>\n",
       "    <tr>\n",
       "      <th id=\"T_884ee_level0_row1\" class=\"row_heading level0 row1\" >mean</th>\n",
       "      <td id=\"T_884ee_row1_col0\" class=\"data row1 col0\" >39.222139</td>\n",
       "      <td id=\"T_884ee_row1_col1\" class=\"data row1 col1\" >30.663452</td>\n",
       "      <td id=\"T_884ee_row1_col2\" class=\"data row1 col2\" >1.095737</td>\n",
       "      <td id=\"T_884ee_row1_col3\" class=\"data row1 col3\" >13279.121487</td>\n",
       "    </tr>\n",
       "    <tr>\n",
       "      <th id=\"T_884ee_level0_row2\" class=\"row_heading level0 row2\" >std</th>\n",
       "      <td id=\"T_884ee_row2_col0\" class=\"data row2 col0\" >14.044333</td>\n",
       "      <td id=\"T_884ee_row2_col1\" class=\"data row2 col1\" >6.100468</td>\n",
       "      <td id=\"T_884ee_row2_col2\" class=\"data row2 col2\" >1.205571</td>\n",
       "      <td id=\"T_884ee_row2_col3\" class=\"data row2 col3\" >12110.359656</td>\n",
       "    </tr>\n",
       "    <tr>\n",
       "      <th id=\"T_884ee_level0_row3\" class=\"row_heading level0 row3\" >min</th>\n",
       "      <td id=\"T_884ee_row3_col0\" class=\"data row3 col0\" >18.000000</td>\n",
       "      <td id=\"T_884ee_row3_col1\" class=\"data row3 col1\" >15.960000</td>\n",
       "      <td id=\"T_884ee_row3_col2\" class=\"data row3 col2\" >0.000000</td>\n",
       "      <td id=\"T_884ee_row3_col3\" class=\"data row3 col3\" >1121.873900</td>\n",
       "    </tr>\n",
       "    <tr>\n",
       "      <th id=\"T_884ee_level0_row4\" class=\"row_heading level0 row4\" >25%</th>\n",
       "      <td id=\"T_884ee_row4_col0\" class=\"data row4 col0\" >27.000000</td>\n",
       "      <td id=\"T_884ee_row4_col1\" class=\"data row4 col1\" >26.290000</td>\n",
       "      <td id=\"T_884ee_row4_col2\" class=\"data row4 col2\" >0.000000</td>\n",
       "      <td id=\"T_884ee_row4_col3\" class=\"data row4 col3\" >4746.344000</td>\n",
       "    </tr>\n",
       "    <tr>\n",
       "      <th id=\"T_884ee_level0_row5\" class=\"row_heading level0 row5\" >50%</th>\n",
       "      <td id=\"T_884ee_row5_col0\" class=\"data row5 col0\" >39.000000</td>\n",
       "      <td id=\"T_884ee_row5_col1\" class=\"data row5 col1\" >30.400000</td>\n",
       "      <td id=\"T_884ee_row5_col2\" class=\"data row5 col2\" >1.000000</td>\n",
       "      <td id=\"T_884ee_row5_col3\" class=\"data row5 col3\" >9386.161300</td>\n",
       "    </tr>\n",
       "    <tr>\n",
       "      <th id=\"T_884ee_level0_row6\" class=\"row_heading level0 row6\" >75%</th>\n",
       "      <td id=\"T_884ee_row6_col0\" class=\"data row6 col0\" >51.000000</td>\n",
       "      <td id=\"T_884ee_row6_col1\" class=\"data row6 col1\" >34.700000</td>\n",
       "      <td id=\"T_884ee_row6_col2\" class=\"data row6 col2\" >2.000000</td>\n",
       "      <td id=\"T_884ee_row6_col3\" class=\"data row6 col3\" >16657.717450</td>\n",
       "    </tr>\n",
       "    <tr>\n",
       "      <th id=\"T_884ee_level0_row7\" class=\"row_heading level0 row7\" >max</th>\n",
       "      <td id=\"T_884ee_row7_col0\" class=\"data row7 col0\" >64.000000</td>\n",
       "      <td id=\"T_884ee_row7_col1\" class=\"data row7 col1\" >53.130000</td>\n",
       "      <td id=\"T_884ee_row7_col2\" class=\"data row7 col2\" >5.000000</td>\n",
       "      <td id=\"T_884ee_row7_col3\" class=\"data row7 col3\" >63770.428010</td>\n",
       "    </tr>\n",
       "  </tbody>\n",
       "</table>\n"
      ],
      "text/plain": [
       "<pandas.io.formats.style.Styler at 0x1f58b8f2a90>"
      ]
     },
     "execution_count": 73,
     "metadata": {},
     "output_type": "execute_result"
    }
   ],
   "source": [
    "# 5 point Summary\n",
    "df.describe().style.background_gradient(cmap='Oranges')"
   ]
  },
  {
   "cell_type": "markdown",
   "metadata": {},
   "source": [
    "## Data Visualaizations"
   ]
  },
  {
   "cell_type": "markdown",
   "metadata": {},
   "source": [
    "####                                                             Dtale Liabrary and sweetviz "
   ]
  },
  {
   "cell_type": "code",
   "execution_count": 74,
   "metadata": {},
   "outputs": [
    {
     "data": {
      "text/html": [
       "\n",
       "        <iframe\n",
       "            width=\"100%\"\n",
       "            height=\"475\"\n",
       "            src=\"http://Faisal:40000/dtale/iframe/3\"\n",
       "            frameborder=\"0\"\n",
       "            allowfullscreen\n",
       "            \n",
       "        ></iframe>\n",
       "        "
      ],
      "text/plain": [
       "<IPython.lib.display.IFrame at 0x1f58de85dd0>"
      ]
     },
     "metadata": {},
     "output_type": "display_data"
    },
    {
     "data": {
      "text/plain": []
     },
     "execution_count": 74,
     "metadata": {},
     "output_type": "execute_result"
    }
   ],
   "source": [
    "# dtale library for basic visualaization\n",
    "# To use dtale library you will have to click the aero and open in new tab if using in browser else there are option to explore \n",
    "dtale.show(df)"
   ]
  },
  {
   "cell_type": "markdown",
   "metadata": {},
   "source": []
  },
  {
   "cell_type": "code",
   "execution_count": 75,
   "metadata": {},
   "outputs": [
    {
     "data": {
      "application/vnd.jupyter.widget-view+json": {
       "model_id": "fc068347b23f486c887adbb61f082b08",
       "version_major": 2,
       "version_minor": 0
      },
      "text/plain": [
       "                                             |          | [  0%]   00:00 -> (? left)"
      ]
     },
     "metadata": {},
     "output_type": "display_data"
    },
    {
     "name": "stdout",
     "output_type": "stream",
     "text": [
      "Report sweetviz_report.html was generated! NOTEBOOK/COLAB USERS: the web browser MAY not pop up, regardless, the report IS saved in your notebook/colab files.\n"
     ]
    }
   ],
   "source": [
    "# it will automatically open a tab in your browzer with report\n",
    "\n",
    "report=sv.analyze(df)\n",
    "report.show_html('sweetviz_report.html')\n"
   ]
  },
  {
   "cell_type": "code",
   "execution_count": 76,
   "metadata": {},
   "outputs": [
    {
     "data": {
      "text/plain": [
       "<matplotlib.legend.Legend at 0x1f58afa84d0>"
      ]
     },
     "execution_count": 76,
     "metadata": {},
     "output_type": "execute_result"
    },
    {
     "data": {
      "image/png": "[encoded data removed]",
      "text/plain": [
       "<Figure size 1250x750 with 1 Axes>"
      ]
     },
     "metadata": {},
     "output_type": "display_data"
    }
   ],
   "source": [
    "plt.figure(figsize=(12.5,7.5))\n",
    "sns.barplot(x='region', y='charges', hue='sex', data=df, palette='cool')\n",
    "# Set labels and title\n",
    "plt.xlabel('Region', fontsize=14)\n",
    "plt.ylabel('Charges', fontsize=14)\n",
    "plt.title('Charges by Region and Sex', fontsize=16)\n",
    "\n",
    "# Adjust legend\n",
    "plt.legend(title='Sex')"
   ]
  },
  {
   "cell_type": "markdown",
   "metadata": {},
   "source": [
    "### Preprocessing Data "
   ]
  },
  {
   "cell_type": "code",
   "execution_count": 77,
   "metadata": {},
   "outputs": [
    {
     "name": "stdout",
     "output_type": "stream",
     "text": [
      "age           int64\n",
      "sex          object\n",
      "bmi         float64\n",
      "children      int64\n",
      "smoker       object\n",
      "region       object\n",
      "charges     float64\n",
      "dtype: object\n",
      "Index(['age', 'sex', 'bmi', 'children', 'smoker', 'region', 'charges'], dtype='object')\n"
     ]
    }
   ],
   "source": [
    "print(df.dtypes)\n",
    "print(df.columns)\n",
    "\n",
    "label = LabelEncoder()\n",
    "df.sex = label.fit_transform(df.sex)\n",
    "df.smoker = label.fit_transform(df.smoker)\n",
    "df.region = label.fit_transform(df.region)\n"
   ]
  },
  {
   "cell_type": "code",
   "execution_count": 78,
   "metadata": {},
   "outputs": [
    {
     "name": "stdout",
     "output_type": "stream",
     "text": [
      "age           int64\n",
      "sex           int32\n",
      "bmi         float64\n",
      "children      int64\n",
      "smoker        int32\n",
      "region        int32\n",
      "charges     float64\n",
      "dtype: object\n",
      "Index(['age', 'sex', 'bmi', 'children', 'smoker', 'region', 'charges'], dtype='object')\n"
     ]
    }
   ],
   "source": [
    "print(df.dtypes)\n",
    "print(df.columns)"
   ]
  },
  {
   "cell_type": "code",
   "execution_count": 80,
   "metadata": {},
   "outputs": [
    {
     "data": {
      "text/html": [
       "<div>\n",
       "<style scoped>\n",
       "    .dataframe tbody tr th:only-of-type {\n",
       "        vertical-align: middle;\n",
       "    }\n",
       "\n",
       "    .dataframe tbody tr th {\n",
       "        vertical-align: top;\n",
       "    }\n",
       "\n",
       "    .dataframe thead th {\n",
       "        text-align: right;\n",
       "    }\n",
       "</style>\n",
       "<table border=\"1\" class=\"dataframe\">\n",
       "  <thead>\n",
       "    <tr style=\"text-align: right;\">\n",
       "      <th></th>\n",
       "      <th>age</th>\n",
       "      <th>sex</th>\n",
       "      <th>bmi</th>\n",
       "      <th>children</th>\n",
       "      <th>smoker</th>\n",
       "      <th>region</th>\n",
       "      <th>charges</th>\n",
       "    </tr>\n",
       "  </thead>\n",
       "  <tbody>\n",
       "    <tr>\n",
       "      <th>0</th>\n",
       "      <td>19</td>\n",
       "      <td>0</td>\n",
       "      <td>27.900</td>\n",
       "      <td>0</td>\n",
       "      <td>1</td>\n",
       "      <td>3</td>\n",
       "      <td>16884.92400</td>\n",
       "    </tr>\n",
       "    <tr>\n",
       "      <th>1</th>\n",
       "      <td>18</td>\n",
       "      <td>1</td>\n",
       "      <td>33.770</td>\n",
       "      <td>1</td>\n",
       "      <td>0</td>\n",
       "      <td>2</td>\n",
       "      <td>1725.55230</td>\n",
       "    </tr>\n",
       "    <tr>\n",
       "      <th>2</th>\n",
       "      <td>28</td>\n",
       "      <td>1</td>\n",
       "      <td>33.000</td>\n",
       "      <td>3</td>\n",
       "      <td>0</td>\n",
       "      <td>2</td>\n",
       "      <td>4449.46200</td>\n",
       "    </tr>\n",
       "    <tr>\n",
       "      <th>3</th>\n",
       "      <td>33</td>\n",
       "      <td>1</td>\n",
       "      <td>22.705</td>\n",
       "      <td>0</td>\n",
       "      <td>0</td>\n",
       "      <td>1</td>\n",
       "      <td>21984.47061</td>\n",
       "    </tr>\n",
       "    <tr>\n",
       "      <th>4</th>\n",
       "      <td>32</td>\n",
       "      <td>1</td>\n",
       "      <td>28.880</td>\n",
       "      <td>0</td>\n",
       "      <td>0</td>\n",
       "      <td>1</td>\n",
       "      <td>3866.85520</td>\n",
       "    </tr>\n",
       "  </tbody>\n",
       "</table>\n",
       "</div>"
      ],
      "text/plain": [
       "   age  sex     bmi  children  smoker  region      charges\n",
       "0   19    0  27.900         0       1       3  16884.92400\n",
       "1   18    1  33.770         1       0       2   1725.55230\n",
       "2   28    1  33.000         3       0       2   4449.46200\n",
       "3   33    1  22.705         0       0       1  21984.47061\n",
       "4   32    1  28.880         0       0       1   3866.85520"
      ]
     },
     "execution_count": 80,
     "metadata": {},
     "output_type": "execute_result"
    }
   ],
   "source": [
    "df.head()"
   ]
  },
  {
   "cell_type": "code",
   "execution_count": 81,
   "metadata": {},
   "outputs": [
    {
     "data": {
      "image/png": "[encoded data removed]",
      "text/plain": [
       "<Figure size 1000x1000 with 2 Axes>"
      ]
     },
     "metadata": {},
     "output_type": "display_data"
    }
   ],
   "source": [
    "f, ax = plt.subplots(1, 1, figsize=(10, 10))\n",
    "ax = sns.heatmap(df.corr(), annot=True, cmap='hot')"
   ]
  },
  {
   "cell_type": "markdown",
   "metadata": {},
   "source": [
    "## Seprating datasets on the basis of input and output"
   ]
  },
  {
   "cell_type": "code",
   "execution_count": 82,
   "metadata": {},
   "outputs": [],
   "source": [
    "x = df.drop(['charges'], axis = 1)\n",
    "y = df['charges']\n"
   ]
  },
  {
   "cell_type": "markdown",
   "metadata": {},
   "source": [
    "### Train test Split"
   ]
  },
  {
   "cell_type": "code",
   "execution_count": 83,
   "metadata": {},
   "outputs": [],
   "source": [
    "x_train, x_test, y_train, y_test = train_test_split(x, y, test_size=0.2, random_state=0)"
   ]
  },
  {
   "cell_type": "markdown",
   "metadata": {},
   "source": [
    "## Linear Regression Model"
   ]
  },
  {
   "cell_type": "code",
   "execution_count": 96,
   "metadata": {},
   "outputs": [
    {
     "name": "stdout",
     "output_type": "stream",
     "text": [
      "+-------------------------------------+--------------------------------------------------------------+\n",
      "| Metric                              | Value                                                        |\n",
      "+=====================================+==============================================================+\n",
      "| Intercept                           | -10658.974155442069                                          |\n",
      "+-------------------------------------+--------------------------------------------------------------+\n",
      "| Coefficients                        | [  244.40254189  -203.81680641   308.01805142   495.56546634 |\n",
      "|                                     |  23771.78167483  -377.96465113]                              |\n",
      "+-------------------------------------+--------------------------------------------------------------+\n",
      "| R^2 Score on Training Data          | 0.7487799749798774                                           |\n",
      "+-------------------------------------+--------------------------------------------------------------+\n",
      "| R^2 Score on Test Data              | 0.7526726290709553                                           |\n",
      "+-------------------------------------+--------------------------------------------------------------+\n",
      "| Mean Squared Error on Training Data | 35403275.58544458                                            |\n",
      "+-------------------------------------+--------------------------------------------------------------+\n",
      "| Mean Squared Error on Test Data     | 41607776.51148495                                            |\n",
      "+-------------------------------------+--------------------------------------------------------------+\n",
      "| Model Tendency                      | Well-Generalized                                             |\n",
      "+-------------------------------------+--------------------------------------------------------------+\n"
     ]
    }
   ],
   "source": [
    "# Initialize Linear Regression model\n",
    "Lin_reg = LinearRegression()\n",
    "\n",
    "# Fit the model to the training data\n",
    "Lin_reg.fit(x_train, y_train)\n",
    "\n",
    "# Predict on training and test data\n",
    "train_predictions = Lin_reg.predict(x_train)\n",
    "test_predictions = Lin_reg.predict(x_test)\n",
    "\n",
    "# Calculate mean squared error on training and test data\n",
    "train_mse = mean_squared_error(y_train, train_predictions)\n",
    "test_mse = mean_squared_error(y_test, test_predictions)\n",
    "\n",
    "# Calculate R^2 score on training data\n",
    "train_score = Lin_reg.score(x_train, y_train)\n",
    "\n",
    "# Calculate R^2 score on test data\n",
    "test_score = Lin_reg.score(x_test, y_test)\n",
    "\n",
    "# Check if the model is overfitting, underfitting, or well-generalized\n",
    "model_tendency = \"\"\n",
    "if abs(train_score - test_score) <= 0.08:\n",
    "    model_tendency = \"Well-Generalized\"\n",
    "elif train_score > test_score:\n",
    "    model_tendency = \"Overfitting\"\n",
    "else:\n",
    "    model_tendency = \"Underfitting\"\n",
    "\n",
    "# Create a list of metrics and corresponding values including model tendency and losses\n",
    "metrics_data = [\n",
    "    [\"Intercept\", Lin_reg.intercept_],\n",
    "    [\"Coefficients\", Lin_reg.coef_],\n",
    "    [\"R^2 Score on Training Data\", train_score],\n",
    "    [\"R^2 Score on Test Data\", test_score],\n",
    "    [\"Mean Squared Error on Training Data\", train_mse],\n",
    "    [\"Mean Squared Error on Test Data\", test_mse],\n",
    "    [\"Model Tendency\", model_tendency]\n",
    "]\n",
    "\n",
    "# Tabulate the metrics\n",
    "table = tabulate(metrics_data, headers=[\"Metric\", \"Value\"], tablefmt=\"grid\")\n",
    "\n",
    "# Print the table\n",
    "print(table)"
   ]
  },
  {
   "cell_type": "markdown",
   "metadata": {},
   "source": [
    "### Ridge"
   ]
  },
  {
   "cell_type": "code",
   "execution_count": 97,
   "metadata": {},
   "outputs": [
    {
     "name": "stdout",
     "output_type": "stream",
     "text": [
      "+-------------------------------------+--------------------------------------------------------------+\n",
      "| Metric                              | Value                                                        |\n",
      "+=====================================+==============================================================+\n",
      "| Intercept                           | -10641.314091338623                                          |\n",
      "+-------------------------------------+--------------------------------------------------------------+\n",
      "| Coefficients                        | [  244.34042397  -201.10723643   307.92303881   495.90249348 |\n",
      "|                                     |  23702.74866396  -377.99799347]                              |\n",
      "+-------------------------------------+--------------------------------------------------------------+\n",
      "| R^2 Score on Training Data          | 0.7487745428850912                                           |\n",
      "+-------------------------------------+--------------------------------------------------------------+\n",
      "| R^2 Score on Test Data              | 0.7526240353110314                                           |\n",
      "+-------------------------------------+--------------------------------------------------------------+\n",
      "| Mean Squared Error on Training Data | 35404041.10542535                                            |\n",
      "+-------------------------------------+--------------------------------------------------------------+\n",
      "| Mean Squared Error on Test Data     | 41615951.418674454                                           |\n",
      "+-------------------------------------+--------------------------------------------------------------+\n",
      "| Model Tendency                      | Well-Generalized                                             |\n",
      "+-------------------------------------+--------------------------------------------------------------+\n"
     ]
    }
   ],
   "source": [
    "\n",
    "# Initialize Ridge Regression model with alpha=0.5\n",
    "ridge_reg = Ridge(alpha=0.5)\n",
    "\n",
    "# Fit the model to the training data\n",
    "ridge_reg.fit(x_train, y_train)\n",
    "\n",
    "# Predict on training and test data\n",
    "train_predictions = ridge_reg.predict(x_train)\n",
    "test_predictions = ridge_reg.predict(x_test)\n",
    "\n",
    "# Calculate mean squared error on training and test data\n",
    "train_mse = mean_squared_error(y_train, train_predictions)\n",
    "test_mse = mean_squared_error(y_test, test_predictions)\n",
    "\n",
    "# Calculate R^2 score on training data\n",
    "train_score = ridge_reg.score(x_train, y_train)\n",
    "\n",
    "# Calculate R^2 score on test data\n",
    "test_score = ridge_reg.score(x_test, y_test)\n",
    "\n",
    "# Check if the model is overfitting, underfitting, or well-generalized\n",
    "model_tendency = \"\"\n",
    "if abs(train_score - test_score) <= 0.08:\n",
    "    model_tendency = \"Well-Generalized\"\n",
    "elif train_score > test_score:\n",
    "    model_tendency = \"Overfitting\"\n",
    "else:\n",
    "    model_tendency = \"Underfitting\"\n",
    "\n",
    "# Create a list of metrics and corresponding values including model tendency and losses\n",
    "metrics_data = [\n",
    "    [\"Intercept\", ridge_reg.intercept_],\n",
    "    [\"Coefficients\", ridge_reg.coef_],\n",
    "    [\"R^2 Score on Training Data\", train_score],\n",
    "    [\"R^2 Score on Test Data\", test_score],\n",
    "    [\"Mean Squared Error on Training Data\", train_mse],\n",
    "    [\"Mean Squared Error on Test Data\", test_mse],\n",
    "    [\"Model Tendency\", model_tendency]\n",
    "]\n",
    "\n",
    "# Tabulate the metrics\n",
    "table = tabulate(metrics_data, headers=[\"Metric\", \"Value\"], tablefmt=\"grid\")\n",
    "\n",
    "# Print the table\n",
    "print(table)"
   ]
  },
  {
   "cell_type": "markdown",
   "metadata": {},
   "source": [
    "## Lasso"
   ]
  },
  {
   "cell_type": "code",
   "execution_count": 98,
   "metadata": {},
   "outputs": [
    {
     "name": "stdout",
     "output_type": "stream",
     "text": [
      "+-------------------------------------+--------------------------------------------------------------+\n",
      "| Metric                              | Value                                                        |\n",
      "+=====================================+==============================================================+\n",
      "| Intercept                           | -10658.805921365001                                          |\n",
      "+-------------------------------------+--------------------------------------------------------------+\n",
      "| Coefficients                        | [  244.40242819  -202.95303181   308.0032782    495.42557944 |\n",
      "|                                     |  23770.5047471   -377.78642988]                              |\n",
      "+-------------------------------------+--------------------------------------------------------------+\n",
      "| R^2 Score on Training Data          | 0.7487799714668091                                           |\n",
      "+-------------------------------------+--------------------------------------------------------------+\n",
      "| R^2 Score on Test Data              | 0.7526729046927889                                           |\n",
      "+-------------------------------------+--------------------------------------------------------------+\n",
      "| Mean Squared Error on Training Data | 35403276.080525056                                           |\n",
      "+-------------------------------------+--------------------------------------------------------------+\n",
      "| Mean Squared Error on Test Data     | 41607730.14374326                                            |\n",
      "+-------------------------------------+--------------------------------------------------------------+\n",
      "| Model Tendency                      | Well-Generalized                                             |\n",
      "+-------------------------------------+--------------------------------------------------------------+\n"
     ]
    }
   ],
   "source": [
    "\n",
    "# Initialize Lasso Regression model with alpha=0.2\n",
    "lasso_reg = Lasso(alpha=0.2, fit_intercept=True, precompute=False, max_iter=1000,\n",
    "                  tol=0.0001, warm_start=False, positive=False, random_state=None, selection='cyclic')\n",
    "\n",
    "# Fit the model to the training data\n",
    "lasso_reg.fit(x_train, y_train)\n",
    "\n",
    "# Predict on training and test data\n",
    "train_predictions = lasso_reg.predict(x_train)\n",
    "test_predictions = lasso_reg.predict(x_test)\n",
    "\n",
    "# Calculate mean squared error on training and test data\n",
    "train_mse = mean_squared_error(y_train, train_predictions)\n",
    "test_mse = mean_squared_error(y_test, test_predictions)\n",
    "\n",
    "# Calculate R^2 score on training data\n",
    "train_score = lasso_reg.score(x_train, y_train)\n",
    "\n",
    "# Calculate R^2 score on test data\n",
    "test_score = lasso_reg.score(x_test, y_test)\n",
    "\n",
    "# Check if the model is overfitting, underfitting, or well-generalized\n",
    "model_tendency = \"\"\n",
    "if abs(train_score - test_score) <= 0.08:\n",
    "    model_tendency = \"Well-Generalized\"\n",
    "elif train_score > test_score:\n",
    "    model_tendency = \"Overfitting\"\n",
    "else:\n",
    "    model_tendency = \"Underfitting\"\n",
    "\n",
    "# Create a list of metrics and corresponding values including model tendency and losses\n",
    "metrics_data = [\n",
    "    [\"Intercept\", lasso_reg.intercept_],\n",
    "    [\"Coefficients\", lasso_reg.coef_],\n",
    "    [\"R^2 Score on Training Data\", train_score],\n",
    "    [\"R^2 Score on Test Data\", test_score],\n",
    "    [\"Mean Squared Error on Training Data\", train_mse],\n",
    "    [\"Mean Squared Error on Test Data\", test_mse],\n",
    "    [\"Model Tendency\", model_tendency]\n",
    "]\n",
    "\n",
    "# Tabulate the metrics\n",
    "table = tabulate(metrics_data, headers=[\"Metric\", \"Value\"], tablefmt=\"grid\")\n",
    "\n",
    "# Print the table\n",
    "print(table)"
   ]
  },
  {
   "cell_type": "markdown",
   "metadata": {},
   "source": [
    "## Random Forest Regressor"
   ]
  },
  {
   "cell_type": "code",
   "execution_count": 101,
   "metadata": {},
   "outputs": [
    {
     "name": "stdout",
     "output_type": "stream",
     "text": [
      "+----------------------------+--------------------+\n",
      "| Metric                     | Value              |\n",
      "+============================+====================+\n",
      "| MSE on Training Data       | 3471446.274242223  |\n",
      "+----------------------------+--------------------+\n",
      "| MSE on Test Data           | 21451787.46038197  |\n",
      "+----------------------------+--------------------+\n",
      "| R^2 Score on Training Data | 0.9746451839587246 |\n",
      "+----------------------------+--------------------+\n",
      "| R^2 Score on Test Data     | 0.8832594310706176 |\n",
      "+----------------------------+--------------------+\n",
      "| Model Tendency             | Overfitting        |\n",
      "+----------------------------+--------------------+\n"
     ]
    },
    {
     "name": "stderr",
     "output_type": "stream",
     "text": [
      "2024-03-05 14:09:58,330 - INFO     - Executing shutdown due to inactivity...\n",
      "2024-03-05 14:10:10,620 - INFO     - Executing shutdown...\n",
      "2024-03-05 14:10:10,630 - INFO     - Not running with the Werkzeug Server, exiting by searching gc for BaseWSGIServer\n"
     ]
    }
   ],
   "source": [
    "\n",
    "# Splitting the data\n",
    "x = df.drop(['charges'], axis=1)\n",
    "y = df.charges\n",
    "x_train, x_test, y_train, y_test = train_test_split(x, y, test_size=0.2, random_state=42)\n",
    "\n",
    "# Initializing Random Forest Regression model\n",
    "Rfr = rfr(n_estimators=100, criterion='squared_error', random_state=1, n_jobs=-1)\n",
    "\n",
    "# Fitting the model to the training data\n",
    "Rfr.fit(x_train, y_train)\n",
    "\n",
    "# Predictions on training and test data\n",
    "x_train_pred = Rfr.predict(x_train)\n",
    "x_test_pred = Rfr.predict(x_test)\n",
    "\n",
    "# Calculating MSE on training and test data\n",
    "train_mse = metrics.mean_squared_error(y_train, x_train_pred)\n",
    "test_mse = metrics.mean_squared_error(y_test, x_test_pred)\n",
    "\n",
    "# Calculating R^2 score on training and test data\n",
    "train_r2 = metrics.r2_score(y_train, x_train_pred)\n",
    "test_r2 = metrics.r2_score(y_test, x_test_pred)\n",
    "\n",
    "# Check if the model is overfitting, underfitting, or well-generalized\n",
    "model_tendency = \"\"\n",
    "if abs(train_r2 - test_r2) <= 0.08:\n",
    "    model_tendency = \"Well-Generalized\"\n",
    "elif train_r2 > test_r2:\n",
    "    model_tendency = \"Overfitting\"\n",
    "else:\n",
    "    model_tendency = \"Underfitting\"\n",
    "\n",
    "# Create a list of metrics and corresponding values including model tendency\n",
    "metrics_data = [\n",
    "    [\"MSE on Training Data\", train_mse],\n",
    "    [\"MSE on Test Data\", test_mse],\n",
    "    [\"R^2 Score on Training Data\", train_r2],\n",
    "    [\"R^2 Score on Test Data\", test_r2],\n",
    "    [\"Model Tendency\", model_tendency]\n",
    "]\n",
    "\n",
    "# Tabulate the metrics\n",
    "table = tabulate(metrics_data, headers=[\"Metric\", \"Value\"], tablefmt=\"grid\")\n",
    "\n",
    "# Print the table\n",
    "print(table)"
   ]
  },
  {
   "cell_type": "markdown",
   "metadata": {},
   "source": [
    "## PolyNomial Regression"
   ]
  },
  {
   "cell_type": "code",
   "execution_count": 103,
   "metadata": {},
   "outputs": [
    {
     "name": "stdout",
     "output_type": "stream",
     "text": [
      "+-------------------------------------+------------------------------------------------------------------+\n",
      "| Metric                              | Value                                                            |\n",
      "+=====================================+==================================================================+\n",
      "| Intercept                           | -4154.172427990896                                               |\n",
      "+-------------------------------------+------------------------------------------------------------------+\n",
      "| Coefficients                        | [ 0.00000000e+00  4.58324545e-01  4.03405523e+02  1.40260553e+03 |\n",
      "|                                     |  -1.12260916e+04  3.01311573e+00  3.24610178e-01 -5.35321284e-01 |\n",
      "|                                     |   2.51089226e+01 -6.58358646e+00 -8.22584809e+00  1.48200077e+03 |\n",
      "|                                     |  -1.41284021e+02 -3.75316527e+01 -1.12260916e+04]                |\n",
      "+-------------------------------------+------------------------------------------------------------------+\n",
      "| R^2 Score on Test Data              | 0.8357482955959797                                               |\n",
      "+-------------------------------------+------------------------------------------------------------------+\n",
      "| Mean Squared Error on Training Data | 22000916.808450025                                               |\n",
      "+-------------------------------------+------------------------------------------------------------------+\n",
      "| Mean Squared Error on Test Data     | 27631993.10614757                                                |\n",
      "+-------------------------------------+------------------------------------------------------------------+\n",
      "| Model Tendency                      | Underfitting                                                     |\n",
      "+-------------------------------------+------------------------------------------------------------------+\n"
     ]
    }
   ],
   "source": [
    "\n",
    "# Prepare the features and target\n",
    "x = df.drop(['charges', 'sex', 'region'], axis=1)\n",
    "y = df.charges\n",
    "\n",
    "# Create polynomial features\n",
    "pol = PolynomialFeatures(degree=2)\n",
    "x_pol = pol.fit_transform(x)\n",
    "\n",
    "# Perform train-test split\n",
    "x_train, x_test, y_train, y_test = train_test_split(x_pol, y, test_size=0.2, random_state=0)\n",
    "\n",
    "# Initialize Polynomial Regression model\n",
    "Pol_reg = LinearRegression()\n",
    "\n",
    "# Fit the model to the training data\n",
    "Pol_reg.fit(x_train, y_train)\n",
    "\n",
    "# Predictions on training and test data\n",
    "y_train_pred = Pol_reg.predict(x_train)\n",
    "y_test_pred = Pol_reg.predict(x_test)\n",
    "\n",
    "# Calculate R^2 score on test data\n",
    "test_score = Pol_reg.score(x_test, y_test)\n",
    "\n",
    "# Calculate Mean Squared Error (MSE) on training and test data\n",
    "train_mse = mean_squared_error(y_train, y_train_pred)\n",
    "test_mse = mean_squared_error(y_test, y_test_pred)\n",
    "\n",
    "# Create a list of metrics and corresponding values\n",
    "metrics_data = [\n",
    "    [\"Intercept\", Pol_reg.intercept_],\n",
    "    [\"Coefficients\", Pol_reg.coef_],\n",
    "    [\"R^2 Score on Test Data\", test_score],\n",
    "    [\"Mean Squared Error on Training Data\", train_mse],\n",
    "    [\"Mean Squared Error on Test Data\", test_mse]\n",
    "]\n",
    "\n",
    "# Check if the model is overfitting, underfitting, or well-generalized\n",
    "model_tendency = \"\"\n",
    "if abs(train_score - test_score) <= 0.08:\n",
    "    model_tendency = \"Well-Generalized\"\n",
    "elif train_score > test_score:\n",
    "    model_tendency = \"Overfitting\"\n",
    "else:\n",
    "    model_tendency = \"Underfitting\"\n",
    "\n",
    "# Add model tendency to the metrics data\n",
    "metrics_data.append([\"Model Tendency\", model_tendency])\n",
    "\n",
    "# Tabulate the metrics\n",
    "table = tabulate(metrics_data, headers=[\"Metric\", \"Value\"], tablefmt=\"grid\")\n",
    "\n",
    "# Print the table\n",
    "print(table)"
   ]
  }
 ],
 "metadata": {
  "kernelspec": {
   "display_name": "base",
   "language": "python",
   "name": "python3"
  },
  "language_info": {
   "codemirror_mode": {
    "name": "ipython",
    "version": 3
   },
   "file_extension": ".py",
   "mimetype": "text/x-python",
   "name": "python",
   "nbconvert_exporter": "python",
   "pygments_lexer": "ipython3",
   "version": "3.11.5"
  }
 },
 "nbformat": 4,
 "nbformat_minor": 2
}
